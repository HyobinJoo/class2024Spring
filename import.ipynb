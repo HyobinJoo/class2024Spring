{
  "nbformat": 4,
  "nbformat_minor": 0,
  "metadata": {
    "colab": {
      "name": "import.ipynb",
      "provenance": [],
      "include_colab_link": true
    },
    "kernelspec": {
      "name": "python3",
      "display_name": "Python 3"
    },
    "language_info": {
      "name": "python"
    }
  },
  "cells": [
    {
      "cell_type": "markdown",
      "metadata": {
        "id": "view-in-github",
        "colab_type": "text"
      },
      "source": [
        "<a href=\"https://colab.research.google.com/github/HyobinJoo/class2024Spring/blob/main/import.ipynb\" target=\"_parent\"><img src=\"https://colab.research.google.com/assets/colab-badge.svg\" alt=\"Open In Colab\"/></a>"
      ]
    },
    {
      "cell_type": "code",
      "metadata": {
        "id": "JXicrkYOzPRo"
      },
      "source": [
        "import numpy as np    #고기 library, 밀가루 library, 기름 library를 냉장고에서 불러온다(import)고 생각하면 됨\n",
        "n = np.random.randn(100)"
      ],
      "execution_count": 1,
      "outputs": []
    },
    {
      "cell_type": "code",
      "source": [
        "type(n)   #n차원의 array"
      ],
      "metadata": {
        "id": "_TM58oq2KkKS",
        "outputId": "cf7892ed-c6fa-4b58-ea91-bfc1de080c8a",
        "colab": {
          "base_uri": "https://localhost:8080/"
        }
      },
      "execution_count": 2,
      "outputs": [
        {
          "output_type": "execute_result",
          "data": {
            "text/plain": [
              "numpy.ndarray"
            ]
          },
          "metadata": {},
          "execution_count": 2
        }
      ]
    },
    {
      "cell_type": "code",
      "source": [
        "n.shape   #한줄짜리 벡터"
      ],
      "metadata": {
        "id": "1RdAM94DLxWw",
        "outputId": "a6db2a8b-e2f5-4e81-aa5a-e908879b8904",
        "colab": {
          "base_uri": "https://localhost:8080/"
        }
      },
      "execution_count": 3,
      "outputs": [
        {
          "output_type": "execute_result",
          "data": {
            "text/plain": [
              "(100,)"
            ]
          },
          "metadata": {},
          "execution_count": 3
        }
      ]
    },
    {
      "cell_type": "code",
      "metadata": {
        "id": "oKT4vn4MwyLA",
        "colab": {
          "base_uri": "https://localhost:8080/",
          "height": 953
        },
        "outputId": "2fbb024e-5efd-483c-8b6f-8b9b73bd0c27"
      },
      "source": [
        "import matplotlib\n",
        "matplotlib.pyplot.hist(n, bins = 100)"
      ],
      "execution_count": 5,
      "outputs": [
        {
          "output_type": "execute_result",
          "data": {
            "text/plain": [
              "(array([1., 0., 1., 0., 1., 1., 2., 0., 0., 2., 1., 0., 1., 0., 1., 2., 0.,\n",
              "        2., 1., 1., 2., 2., 1., 1., 0., 5., 1., 0., 0., 2., 2., 3., 1., 0.,\n",
              "        0., 2., 1., 1., 2., 5., 1., 1., 2., 3., 2., 4., 2., 2., 0., 2., 1.,\n",
              "        1., 1., 2., 0., 1., 3., 1., 0., 1., 0., 1., 1., 2., 0., 0., 1., 1.,\n",
              "        2., 1., 0., 0., 0., 3., 1., 1., 0., 1., 1., 1., 0., 0., 1., 0., 1.,\n",
              "        0., 0., 0., 0., 0., 0., 0., 0., 0., 0., 0., 1., 0., 1., 1.]),\n",
              " array([-1.87284665, -1.82731599, -1.78178532, -1.73625466, -1.690724  ,\n",
              "        -1.64519334, -1.59966268, -1.55413202, -1.50860136, -1.4630707 ,\n",
              "        -1.41754003, -1.37200937, -1.32647871, -1.28094805, -1.23541739,\n",
              "        -1.18988673, -1.14435607, -1.09882541, -1.05329474, -1.00776408,\n",
              "        -0.96223342, -0.91670276, -0.8711721 , -0.82564144, -0.78011078,\n",
              "        -0.73458012, -0.68904945, -0.64351879, -0.59798813, -0.55245747,\n",
              "        -0.50692681, -0.46139615, -0.41586549, -0.37033483, -0.32480416,\n",
              "        -0.2792735 , -0.23374284, -0.18821218, -0.14268152, -0.09715086,\n",
              "        -0.0516202 , -0.00608954,  0.03944112,  0.08497179,  0.13050245,\n",
              "         0.17603311,  0.22156377,  0.26709443,  0.31262509,  0.35815575,\n",
              "         0.40368641,  0.44921708,  0.49474774,  0.5402784 ,  0.58580906,\n",
              "         0.63133972,  0.67687038,  0.72240104,  0.7679317 ,  0.81346237,\n",
              "         0.85899303,  0.90452369,  0.95005435,  0.99558501,  1.04111567,\n",
              "         1.08664633,  1.13217699,  1.17770766,  1.22323832,  1.26876898,\n",
              "         1.31429964,  1.3598303 ,  1.40536096,  1.45089162,  1.49642228,\n",
              "         1.54195295,  1.58748361,  1.63301427,  1.67854493,  1.72407559,\n",
              "         1.76960625,  1.81513691,  1.86066757,  1.90619824,  1.9517289 ,\n",
              "         1.99725956,  2.04279022,  2.08832088,  2.13385154,  2.1793822 ,\n",
              "         2.22491286,  2.27044352,  2.31597419,  2.36150485,  2.40703551,\n",
              "         2.45256617,  2.49809683,  2.54362749,  2.58915815,  2.63468881,\n",
              "         2.68021948]),\n",
              " <BarContainer object of 100 artists>)"
            ]
          },
          "metadata": {},
          "execution_count": 5
        },
        {
          "output_type": "display_data",
          "data": {
            "text/plain": [
              "<Figure size 640x480 with 1 Axes>"
            ],
            "image/png": "[encoded data removed]"
          },
          "metadata": {}
        }
      ]
    },
    {
      "cell_type": "code",
      "metadata": {
        "colab": {
          "base_uri": "https://localhost:8080/",
          "height": 350
        },
        "id": "zQJ4LnbA-Hvz",
        "outputId": "bec7eeff-8cae-4c3d-f090-eaf78cdb5fa9"
      },
      "source": [
        "import matplotlib.pyplot\n",
        "matplotlib.pyplot.hist(n)"
      ],
      "execution_count": null,
      "outputs": [
        {
          "output_type": "execute_result",
          "data": {
            "text/plain": [
              "(array([ 4.,  4.,  4.,  8., 19., 21., 16., 13.,  6.,  5.]),\n",
              " array([-2.54804234, -2.0585933 , -1.56914426, -1.07969522, -0.59024618,\n",
              "        -0.10079714,  0.3886519 ,  0.87810094,  1.36754998,  1.85699902,\n",
              "         2.34644806]),\n",
              " <a list of 10 Patch objects>)"
            ]
          },
          "metadata": {},
          "execution_count": 4
        },
        {
          "output_type": "display_data",
          "data": {
            "image/png": "[encoded data removed]",
            "text/plain": [
              "<Figure size 432x288 with 1 Axes>"
            ]
          },
          "metadata": {
            "needs_background": "light"
          }
        }
      ]
    },
    {
      "cell_type": "code",
      "metadata": {
        "id": "AWU6awi53c07",
        "outputId": "9b49fb47-6bac-4887-8815-e5ed130f6c56",
        "colab": {
          "base_uri": "https://localhost:8080/",
          "height": 350
        }
      },
      "source": [
        "import matplotlib.pyplot as plt\n",
        "plt.hist(n)"
      ],
      "execution_count": null,
      "outputs": [
        {
          "output_type": "execute_result",
          "data": {
            "text/plain": [
              "(array([ 4.,  4.,  4.,  8., 19., 21., 16., 13.,  6.,  5.]),\n",
              " array([-2.54804234, -2.0585933 , -1.56914426, -1.07969522, -0.59024618,\n",
              "        -0.10079714,  0.3886519 ,  0.87810094,  1.36754998,  1.85699902,\n",
              "         2.34644806]),\n",
              " <a list of 10 Patch objects>)"
            ]
          },
          "metadata": {},
          "execution_count": 5
        },
        {
          "output_type": "display_data",
          "data": {
            "image/png": "[encoded data removed]",
            "text/plain": [
              "<Figure size 432x288 with 1 Axes>"
            ]
          },
          "metadata": {
            "needs_background": "light"
          }
        }
      ]
    },
    {
      "cell_type": "markdown",
      "source": [
        "## from import를 쓰면 import as처럼 축약해서 부를 수 있는 효과"
      ],
      "metadata": {
        "id": "v1zA2xRWzpdu"
      }
    },
    {
      "cell_type": "code",
      "metadata": {
        "colab": {
          "base_uri": "https://localhost:8080/",
          "height": 350
        },
        "id": "moIjn3Kv-Hqy",
        "outputId": "4b1e3880-1576-4b63-b4d0-192704221a8d"
      },
      "source": [
        "from matplotlib import pyplot\n",
        "pyplot.hist(n)"
      ],
      "execution_count": null,
      "outputs": [
        {
          "output_type": "execute_result",
          "data": {
            "text/plain": [
              "(array([ 3.,  4.,  9., 11., 26., 19., 16., 10.,  1.,  1.]),\n",
              " array([-2.51307585, -1.99199295, -1.47091005, -0.94982715, -0.42874425,\n",
              "         0.09233865,  0.61342155,  1.13450445,  1.65558734,  2.17667024,\n",
              "         2.69775314]),\n",
              " <a list of 10 Patch objects>)"
            ]
          },
          "metadata": {},
          "execution_count": 11
        },
        {
          "output_type": "display_data",
          "data": {
            "image/png": "[encoded data removed]",
            "text/plain": [
              "<Figure size 432x288 with 1 Axes>"
            ]
          },
          "metadata": {
            "needs_background": "light"
          }
        }
      ]
    },
    {
      "cell_type": "code",
      "metadata": {
        "colab": {
          "base_uri": "https://localhost:8080/",
          "height": 350
        },
        "id": "ORo259i7_Uqi",
        "outputId": "8faa9ebd-66ff-4f86-e588-f114023e649d"
      },
      "source": [
        "from matplotlib.pyplot import hist\n",
        "hist(n)"
      ],
      "execution_count": null,
      "outputs": [
        {
          "output_type": "execute_result",
          "data": {
            "text/plain": [
              "(array([ 3.,  4.,  9., 11., 26., 19., 16., 10.,  1.,  1.]),\n",
              " array([-2.51307585, -1.99199295, -1.47091005, -0.94982715, -0.42874425,\n",
              "         0.09233865,  0.61342155,  1.13450445,  1.65558734,  2.17667024,\n",
              "         2.69775314]),\n",
              " <a list of 10 Patch objects>)"
            ]
          },
          "metadata": {},
          "execution_count": 14
        },
        {
          "output_type": "display_data",
          "data": {
            "image/png": "[encoded data removed]",
            "text/plain": [
              "<Figure size 432x288 with 1 Axes>"
            ]
          },
          "metadata": {
            "needs_background": "light"
          }
        }
      ]
    }
  ]
}