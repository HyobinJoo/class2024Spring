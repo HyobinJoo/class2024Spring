{
  "nbformat": 4,
  "nbformat_minor": 0,
  "metadata": {
    "colab": {
      "provenance": [],
      "include_colab_link": true
    },
    "kernelspec": {
      "name": "python3",
      "display_name": "Python 3"
    },
    "language_info": {
      "name": "python"
    }
  },
  "cells": [
    {
      "cell_type": "markdown",
      "metadata": {
        "id": "view-in-github",
        "colab_type": "text"
      },
      "source": [
        "<a href=\"https://colab.research.google.com/github/HyobinJoo/class2024Spring/blob/main/spotify_api.ipynb\" target=\"_parent\"><img src=\"https://colab.research.google.com/assets/colab-badge.svg\" alt=\"Open In Colab\"/></a>"
      ]
    },
    {
      "cell_type": "code",
      "execution_count": 2,
      "metadata": {
        "id": "t-NOmRKs2BxY",
        "outputId": "9288a7a9-7a72-4fef-ae6b-2898da8ff58d",
        "colab": {
          "base_uri": "https://localhost:8080/"
        }
      },
      "outputs": [
        {
          "output_type": "stream",
          "name": "stdout",
          "text": [
            "Collecting spotipy\n",
            "  Downloading spotipy-2.23.0-py3-none-any.whl (29 kB)\n",
            "Collecting redis>=3.5.3 (from spotipy)\n",
            "  Downloading redis-5.0.4-py3-none-any.whl (251 kB)\n",
            "\u001b[2K     \u001b[90m━━━━━━━━━━━━━━━━━━━━━━━━━━━━━━━━━━━━━━━━\u001b[0m \u001b[32m252.0/252.0 kB\u001b[0m \u001b[31m5.4 MB/s\u001b[0m eta \u001b[36m0:00:00\u001b[0m\n",
            "\u001b[?25hRequirement already satisfied: requests>=2.25.0 in /usr/local/lib/python3.10/dist-packages (from spotipy) (2.31.0)\n",
            "Requirement already satisfied: six>=1.15.0 in /usr/local/lib/python3.10/dist-packages (from spotipy) (1.16.0)\n",
            "Requirement already satisfied: urllib3>=1.26.0 in /usr/local/lib/python3.10/dist-packages (from spotipy) (2.0.7)\n",
            "Requirement already satisfied: async-timeout>=4.0.3 in /usr/local/lib/python3.10/dist-packages (from redis>=3.5.3->spotipy) (4.0.3)\n",
            "Requirement already satisfied: charset-normalizer<4,>=2 in /usr/local/lib/python3.10/dist-packages (from requests>=2.25.0->spotipy) (3.3.2)\n",
            "Requirement already satisfied: idna<4,>=2.5 in /usr/local/lib/python3.10/dist-packages (from requests>=2.25.0->spotipy) (3.7)\n",
            "Requirement already satisfied: certifi>=2017.4.17 in /usr/local/lib/python3.10/dist-packages (from requests>=2.25.0->spotipy) (2024.2.2)\n",
            "Installing collected packages: redis, spotipy\n",
            "Successfully installed redis-5.0.4 spotipy-2.23.0\n"
          ]
        }
      ],
      "source": [
        "!pip install spotipy\n",
        "from spotipy.oauth2 import SpotifyClientCredentials\n",
        "import spotipy\n",
        "\n",
        "client_id = \"67e6a2bc931d43b3a3464a06529fb351\"\n",
        "client_secret = \"7b50cf8d7f3b43e9811580324714c194\"\n",
        "\n",
        "client_credentials_manager = SpotifyClientCredentials(client_id=client_id, client_secret=client_secret)\n",
        "sp = spotipy.Spotify(client_credentials_manager=client_credentials_manager)"
      ]
    },
    {
      "cell_type": "code",
      "source": [
        "results = sp.search('coldplay', type='album', market  = 'us')   # search는 되게 general한 fuction. type에 다른 게 들어가도 상관 없음\n",
        "results['albums']['items'][0].keys()"
      ],
      "metadata": {
        "id": "I_Ix_Cej8pfM",
        "outputId": "a74d8371-b48f-4c54-9646-f1220ef3dbb2",
        "colab": {
          "base_uri": "https://localhost:8080/"
        }
      },
      "execution_count": 9,
      "outputs": [
        {
          "output_type": "execute_result",
          "data": {
            "text/plain": [
              "dict_keys(['album_type', 'artists', 'external_urls', 'href', 'id', 'images', 'is_playable', 'name', 'release_date', 'release_date_precision', 'total_tracks', 'type', 'uri'])"
            ]
          },
          "metadata": {},
          "execution_count": 9
        }
      ]
    },
    {
      "cell_type": "code",
      "source": [
        "print(results.keys())\n",
        "print(results['albums'].keys())\n",
        "print(results['albums']['items'][0])\n",
        "uri = results['albums']['items'][0]['uri']"
      ],
      "metadata": {
        "id": "m2zHeslt_Y-f",
        "outputId": "c271119e-c635-4b6e-cff2-cb60d2079a27",
        "colab": {
          "base_uri": "https://localhost:8080/"
        }
      },
      "execution_count": 10,
      "outputs": [
        {
          "output_type": "stream",
          "name": "stdout",
          "text": [
            "dict_keys(['albums'])\n",
            "dict_keys(['href', 'items', 'limit', 'next', 'offset', 'previous', 'total'])\n",
            "{'album_type': 'album', 'artists': [{'external_urls': {'spotify': 'https://open.spotify.com/artist/4gzpq5DPGxSnKTe4SA8HAU'}, 'href': 'https://api.spotify.com/v1/artists/4gzpq5DPGxSnKTe4SA8HAU', 'id': '4gzpq5DPGxSnKTe4SA8HAU', 'name': 'Coldplay', 'type': 'artist', 'uri': 'spotify:artist:4gzpq5DPGxSnKTe4SA8HAU'}], 'external_urls': {'spotify': 'https://open.spotify.com/album/6ZG5lRT77aJ3btmArcykra'}, 'href': 'https://api.spotify.com/v1/albums/6ZG5lRT77aJ3btmArcykra', 'id': '6ZG5lRT77aJ3btmArcykra', 'images': [{'height': 640, 'url': 'https://i.scdn.co/image/ab67616d0000b2733d92b2ad5af9fbc8637425f0', 'width': 640}, {'height': 300, 'url': 'https://i.scdn.co/image/ab67616d00001e023d92b2ad5af9fbc8637425f0', 'width': 300}, {'height': 64, 'url': 'https://i.scdn.co/image/ab67616d000048513d92b2ad5af9fbc8637425f0', 'width': 64}], 'is_playable': True, 'name': 'Parachutes', 'release_date': '2000-07-10', 'release_date_precision': 'day', 'total_tracks': 10, 'type': 'album', 'uri': 'spotify:album:6ZG5lRT77aJ3btmArcykra'}\n"
          ]
        }
      ]
    },
    {
      "cell_type": "code",
      "source": [
        "results = sp.album(uri, market  = 'us')\n",
        "print(results.keys())\n",
        "print(results['tracks']['items'][0])\n",
        "print(results['tracks']['items'][0]['name'])\n",
        "print(results['tracks']['items'][0]['preview_url'])\n",
        "uri = results['tracks']['items'][0]['uri']"
      ],
      "metadata": {
        "id": "SebOK7DPCyAP"
      },
      "execution_count": null,
      "outputs": []
    },
    {
      "cell_type": "code",
      "source": [
        "results = sp.audio_analysis(uri)\n",
        "print(results.keys())\n",
        "results['meta']"
      ],
      "metadata": {
        "id": "Urwp5wGj9eqL"
      },
      "execution_count": null,
      "outputs": []
    },
    {
      "cell_type": "code",
      "source": [
        "results = sp.audio_features(uri)\n",
        "results"
      ],
      "metadata": {
        "id": "BKpQU_yv_XNy"
      },
      "execution_count": null,
      "outputs": []
    },
    {
      "cell_type": "code",
      "source": [
        "results = sp.search('coldplay', type = 'artist')\n",
        "print(results.keys())\n",
        "print(results['artists']['items'][0]['uri'])\n",
        "uri = results['artists']['items'][0]['uri']"
      ],
      "metadata": {
        "id": "d0DkUfnxD2Ul"
      },
      "execution_count": null,
      "outputs": []
    },
    {
      "cell_type": "code",
      "source": [
        "results = sp.artist_top_tracks(uri)\n",
        "for track in results['tracks'][:5]:\n",
        "    print('track    : ' + track['name'])\n",
        "    print('audio    : ' + track['preview_url'])\n",
        "    print('cover art: ' + track['album']['images'][0]['url'])\n",
        "    print()"
      ],
      "metadata": {
        "id": "7RJp3n7JSTGh"
      },
      "execution_count": null,
      "outputs": []
    },
    {
      "cell_type": "code",
      "source": [
        "results = sp.artist_albums(uri)\n",
        "print(results.keys())\n",
        "print(results['items'][0]['uri'])\n",
        "uri = results['items'][0]['uri']"
      ],
      "metadata": {
        "id": "xLZDJXg0XmOC"
      },
      "execution_count": null,
      "outputs": []
    },
    {
      "cell_type": "code",
      "source": [
        "results = sp.album(uri)\n",
        "print(results.keys())\n",
        "print(results['name'])"
      ],
      "metadata": {
        "id": "NwR2A8tiozKU"
      },
      "execution_count": null,
      "outputs": []
    }
  ]
}