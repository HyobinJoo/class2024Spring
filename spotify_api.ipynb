{
  "nbformat": 4,
  "nbformat_minor": 0,
  "metadata": {
    "colab": {
      "provenance": [],
      "include_colab_link": true
    },
    "kernelspec": {
      "name": "python3",
      "display_name": "Python 3"
    },
    "language_info": {
      "name": "python"
    }
  },
  "cells": [
    {
      "cell_type": "markdown",
      "metadata": {
        "id": "view-in-github",
        "colab_type": "text"
      },
      "source": [
        "<a href=\"https://colab.research.google.com/github/HyobinJoo/class2024Spring/blob/main/spotify_api.ipynb\" target=\"_parent\"><img src=\"https://colab.research.google.com/assets/colab-badge.svg\" alt=\"Open In Colab\"/></a>"
      ]
    },
    {
      "cell_type": "code",
      "execution_count": 1,
      "metadata": {
        "id": "t-NOmRKs2BxY",
        "outputId": "25ac4de0-4a55-4778-8951-e309a874d153",
        "colab": {
          "base_uri": "https://localhost:8080/"
        }
      },
      "outputs": [
        {
          "output_type": "stream",
          "name": "stdout",
          "text": [
            "Collecting spotipy\n",
            "  Downloading spotipy-2.23.0-py3-none-any.whl (29 kB)\n",
            "Collecting redis>=3.5.3 (from spotipy)\n",
            "  Downloading redis-5.0.3-py3-none-any.whl (251 kB)\n",
            "\u001b[2K     \u001b[90m━━━━━━━━━━━━━━━━━━━━━━━━━━━━━━━━━━━━━━━━\u001b[0m \u001b[32m251.8/251.8 kB\u001b[0m \u001b[31m7.4 MB/s\u001b[0m eta \u001b[36m0:00:00\u001b[0m\n",
            "\u001b[?25hRequirement already satisfied: requests>=2.25.0 in /usr/local/lib/python3.10/dist-packages (from spotipy) (2.31.0)\n",
            "Requirement already satisfied: six>=1.15.0 in /usr/local/lib/python3.10/dist-packages (from spotipy) (1.16.0)\n",
            "Requirement already satisfied: urllib3>=1.26.0 in /usr/local/lib/python3.10/dist-packages (from spotipy) (2.0.7)\n",
            "Requirement already satisfied: async-timeout>=4.0.3 in /usr/local/lib/python3.10/dist-packages (from redis>=3.5.3->spotipy) (4.0.3)\n",
            "Requirement already satisfied: charset-normalizer<4,>=2 in /usr/local/lib/python3.10/dist-packages (from requests>=2.25.0->spotipy) (3.3.2)\n",
            "Requirement already satisfied: idna<4,>=2.5 in /usr/local/lib/python3.10/dist-packages (from requests>=2.25.0->spotipy) (3.7)\n",
            "Requirement already satisfied: certifi>=2017.4.17 in /usr/local/lib/python3.10/dist-packages (from requests>=2.25.0->spotipy) (2024.2.2)\n",
            "Installing collected packages: redis, spotipy\n",
            "Successfully installed redis-5.0.3 spotipy-2.23.0\n"
          ]
        }
      ],
      "source": [
        "!pip install spotipy\n",
        "from spotipy.oauth2 import SpotifyClientCredentials\n",
        "import spotipy\n",
        "\n",
        "client_id = \"67e6a2bc931d43b3a3464a06529fb351\"\n",
        "client_secret = \"7b50cf8d7f3b43e9811580324714c194\"\n",
        "\n",
        "client_credentials_manager = SpotifyClientCredentials(client_id=client_id, client_secret=client_secret)\n",
        "sp = spotipy.Spotify(client_credentials_manager=client_credentials_manager)"
      ]
    },
    {
      "cell_type": "code",
      "source": [
        "results = sp.search('coldplay', type='album', market  = 'us')\n",
        "results"
      ],
      "metadata": {
        "id": "I_Ix_Cej8pfM"
      },
      "execution_count": null,
      "outputs": []
    },
    {
      "cell_type": "code",
      "source": [
        "print(results.keys())\n",
        "print(results['albums'].keys()) # 이 중 'items'가 중요\n",
        "print(results['albums']['items'][0])\n",
        "uri = results['albums']['items'][0]['uri']"
      ],
      "metadata": {
        "id": "m2zHeslt_Y-f",
        "outputId": "8443f620-16ee-49fb-f6cc-d72619ad6cde",
        "colab": {
          "base_uri": "https://localhost:8080/"
        }
      },
      "execution_count": 4,
      "outputs": [
        {
          "output_type": "stream",
          "name": "stdout",
          "text": [
            "dict_keys(['albums'])\n",
            "dict_keys(['href', 'items', 'limit', 'next', 'offset', 'previous', 'total'])\n",
            "{'album_type': 'album', 'artists': [{'external_urls': {'spotify': 'https://open.spotify.com/artist/4gzpq5DPGxSnKTe4SA8HAU'}, 'href': 'https://api.spotify.com/v1/artists/4gzpq5DPGxSnKTe4SA8HAU', 'id': '4gzpq5DPGxSnKTe4SA8HAU', 'name': 'Coldplay', 'type': 'artist', 'uri': 'spotify:artist:4gzpq5DPGxSnKTe4SA8HAU'}], 'external_urls': {'spotify': 'https://open.spotify.com/album/6ZG5lRT77aJ3btmArcykra'}, 'href': 'https://api.spotify.com/v1/albums/6ZG5lRT77aJ3btmArcykra', 'id': '6ZG5lRT77aJ3btmArcykra', 'images': [{'height': 640, 'url': 'https://i.scdn.co/image/ab67616d0000b2733d92b2ad5af9fbc8637425f0', 'width': 640}, {'height': 300, 'url': 'https://i.scdn.co/image/ab67616d00001e023d92b2ad5af9fbc8637425f0', 'width': 300}, {'height': 64, 'url': 'https://i.scdn.co/image/ab67616d000048513d92b2ad5af9fbc8637425f0', 'width': 64}], 'is_playable': True, 'name': 'Parachutes', 'release_date': '2000-07-10', 'release_date_precision': 'day', 'total_tracks': 10, 'type': 'album', 'uri': 'spotify:album:6ZG5lRT77aJ3btmArcykra'}\n"
          ]
        }
      ]
    },
    {
      "cell_type": "code",
      "source": [
        "results = sp.album(uri, market  = 'us')\n",
        "print(results.keys())\n",
        "print(results['tracks']['items'][0])\n",
        "print(results['tracks']['items'][0]['name'])\n",
        "print(results['tracks']['items'][0]['preview_url'])\n",
        "uri = results['tracks']['items'][0]['uri'] #"
      ],
      "metadata": {
        "id": "SebOK7DPCyAP",
        "outputId": "8a0dc5cb-2e93-4693-c733-1f1a383ea7d0",
        "colab": {
          "base_uri": "https://localhost:8080/"
        }
      },
      "execution_count": 5,
      "outputs": [
        {
          "output_type": "stream",
          "name": "stdout",
          "text": [
            "dict_keys(['album_type', 'artists', 'copyrights', 'external_ids', 'external_urls', 'genres', 'href', 'id', 'images', 'is_playable', 'label', 'name', 'popularity', 'release_date', 'release_date_precision', 'total_tracks', 'tracks', 'type', 'uri'])\n",
            "{'artists': [{'external_urls': {'spotify': 'https://open.spotify.com/artist/4gzpq5DPGxSnKTe4SA8HAU'}, 'href': 'https://api.spotify.com/v1/artists/4gzpq5DPGxSnKTe4SA8HAU', 'id': '4gzpq5DPGxSnKTe4SA8HAU', 'name': 'Coldplay', 'type': 'artist', 'uri': 'spotify:artist:4gzpq5DPGxSnKTe4SA8HAU'}], 'disc_number': 1, 'duration_ms': 136866, 'explicit': False, 'external_urls': {'spotify': 'https://open.spotify.com/track/2QhURnm7mQDxBb5jWkbDug'}, 'href': 'https://api.spotify.com/v1/tracks/2QhURnm7mQDxBb5jWkbDug', 'id': '2QhURnm7mQDxBb5jWkbDug', 'is_local': False, 'is_playable': True, 'name': \"Don't Panic\", 'preview_url': 'https://p.scdn.co/mp3-preview/c7db43ba594e878a6471341da462fbbe8eb96e42?cid=67e6a2bc931d43b3a3464a06529fb351', 'track_number': 1, 'type': 'track', 'uri': 'spotify:track:2QhURnm7mQDxBb5jWkbDug'}\n",
            "Don't Panic\n",
            "https://p.scdn.co/mp3-preview/c7db43ba594e878a6471341da462fbbe8eb96e42?cid=67e6a2bc931d43b3a3464a06529fb351\n"
          ]
        }
      ]
    },
    {
      "cell_type": "code",
      "source": [
        "uri"
      ],
      "metadata": {
        "id": "SMFBt7YTHT9X",
        "outputId": "dae600ee-0886-43b3-b51b-8c42c6ee1c88",
        "colab": {
          "base_uri": "https://localhost:8080/",
          "height": 36
        }
      },
      "execution_count": 6,
      "outputs": [
        {
          "output_type": "execute_result",
          "data": {
            "text/plain": [
              "'spotify:track:2QhURnm7mQDxBb5jWkbDug'"
            ],
            "application/vnd.google.colaboratory.intrinsic+json": {
              "type": "string"
            }
          },
          "metadata": {},
          "execution_count": 6
        }
      ]
    },
    {
      "cell_type": "code",
      "source": [
        "results = sp.audio_analysis(uri)\n",
        "print(results.keys())\n",
        "results['meta']"
      ],
      "metadata": {
        "id": "Urwp5wGj9eqL",
        "outputId": "b8d2cae3-08a1-4806-e74e-c3ca4f18652f",
        "colab": {
          "base_uri": "https://localhost:8080/"
        }
      },
      "execution_count": 10,
      "outputs": [
        {
          "output_type": "stream",
          "name": "stdout",
          "text": [
            "dict_keys(['meta', 'track', 'bars', 'beats', 'sections', 'segments', 'tatums'])\n"
          ]
        },
        {
          "output_type": "execute_result",
          "data": {
            "text/plain": [
              "{'analyzer_version': '4.0.0',\n",
              " 'platform': 'Linux',\n",
              " 'detailed_status': 'OK',\n",
              " 'status_code': 0,\n",
              " 'timestamp': 1604529316,\n",
              " 'analysis_time': 5.69552,\n",
              " 'input_process': 'libvorbisfile L+R 44100->22050'}"
            ]
          },
          "metadata": {},
          "execution_count": 10
        }
      ]
    },
    {
      "cell_type": "code",
      "source": [
        "results = sp.audio_features(uri)\n",
        "results"
      ],
      "metadata": {
        "id": "BKpQU_yv_XNy",
        "outputId": "673abd64-8c9f-4fbb-d96b-54f0c8e4a8d1",
        "colab": {
          "base_uri": "https://localhost:8080/"
        }
      },
      "execution_count": 11,
      "outputs": [
        {
          "output_type": "execute_result",
          "data": {
            "text/plain": [
              "[{'danceability': 0.602,\n",
              "  'energy': 0.612,\n",
              "  'key': 0,\n",
              "  'loudness': -8.409,\n",
              "  'mode': 1,\n",
              "  'speechiness': 0.0335,\n",
              "  'acousticness': 0.206,\n",
              "  'instrumentalness': 0.00607,\n",
              "  'liveness': 0.107,\n",
              "  'valence': 0.453,\n",
              "  'tempo': 122.062,\n",
              "  'type': 'audio_features',\n",
              "  'id': '2QhURnm7mQDxBb5jWkbDug',\n",
              "  'uri': 'spotify:track:2QhURnm7mQDxBb5jWkbDug',\n",
              "  'track_href': 'https://api.spotify.com/v1/tracks/2QhURnm7mQDxBb5jWkbDug',\n",
              "  'analysis_url': 'https://api.spotify.com/v1/audio-analysis/2QhURnm7mQDxBb5jWkbDug',\n",
              "  'duration_ms': 136867,\n",
              "  'time_signature': 4}]"
            ]
          },
          "metadata": {},
          "execution_count": 11
        }
      ]
    },
    {
      "cell_type": "code",
      "source": [
        "results = sp.search('coldplay', type = 'artist')\n",
        "print(results.keys())\n",
        "print(results['artists']['items'][0]['uri'])\n",
        "uri = results['artists']['items'][0]['uri']"
      ],
      "metadata": {
        "id": "d0DkUfnxD2Ul",
        "outputId": "6ded7b52-972c-4542-d411-8bf831267003",
        "colab": {
          "base_uri": "https://localhost:8080/"
        }
      },
      "execution_count": 12,
      "outputs": [
        {
          "output_type": "stream",
          "name": "stdout",
          "text": [
            "dict_keys(['artists'])\n",
            "spotify:artist:4gzpq5DPGxSnKTe4SA8HAU\n"
          ]
        }
      ]
    },
    {
      "cell_type": "code",
      "source": [
        "results = sp.artist_top_tracks(uri)\n",
        "for track in results['tracks'][:5]: # for loop를 돌려서 top5를 추려내라\n",
        "    print('track    : ' + track['name'])\n",
        "    print('audio    : ' + track['preview_url'])\n",
        "    print('cover art: ' + track['album']['images'][0]['url'])\n",
        "    print()"
      ],
      "metadata": {
        "id": "7RJp3n7JSTGh",
        "outputId": "5ced5b6f-4821-4e37-ac24-16efbbeab026",
        "colab": {
          "base_uri": "https://localhost:8080/"
        }
      },
      "execution_count": 13,
      "outputs": [
        {
          "output_type": "stream",
          "name": "stdout",
          "text": [
            "track    : Yellow\n",
            "audio    : https://p.scdn.co/mp3-preview/c0d9119dc69cae75baf6463e21e43f433fdf5ff4?cid=67e6a2bc931d43b3a3464a06529fb351\n",
            "cover art: https://i.scdn.co/image/ab67616d0000b2733d92b2ad5af9fbc8637425f0\n",
            "\n",
            "track    : Viva La Vida\n",
            "audio    : https://p.scdn.co/mp3-preview/fb9f4a9b0887326776b4fb7c6d331acd167a7778?cid=67e6a2bc931d43b3a3464a06529fb351\n",
            "cover art: https://i.scdn.co/image/ab67616d0000b273e21cc1db05580b6f2d2a3b6e\n",
            "\n",
            "track    : Something Just Like This\n",
            "audio    : https://p.scdn.co/mp3-preview/4e117abe76700eb13e9e0557fa2d9c44b565b9da?cid=67e6a2bc931d43b3a3464a06529fb351\n",
            "cover art: https://i.scdn.co/image/ab67616d0000b2730c13d3d5a503c84fcc60ae94\n",
            "\n",
            "track    : Sparks\n",
            "audio    : https://p.scdn.co/mp3-preview/4ffce9684e191005c15ab6ce31540fcec78eaacf?cid=67e6a2bc931d43b3a3464a06529fb351\n",
            "cover art: https://i.scdn.co/image/ab67616d0000b2733d92b2ad5af9fbc8637425f0\n",
            "\n",
            "track    : The Scientist\n",
            "audio    : https://p.scdn.co/mp3-preview/cb283ce76eeee06a724b942d36a140cc088dd50f?cid=67e6a2bc931d43b3a3464a06529fb351\n",
            "cover art: https://i.scdn.co/image/ab67616d0000b273de09e02aa7febf30b7c02d82\n",
            "\n"
          ]
        }
      ]
    },
    {
      "cell_type": "code",
      "source": [
        "results = sp.artist_albums(uri)\n",
        "print(results.keys())\n",
        "print(results['items'][0]['uri'])\n",
        "uri = results['items'][0]['uri']"
      ],
      "metadata": {
        "id": "xLZDJXg0XmOC",
        "outputId": "0cd11092-59de-4397-fb16-e437609d2386",
        "colab": {
          "base_uri": "https://localhost:8080/"
        }
      },
      "execution_count": 14,
      "outputs": [
        {
          "output_type": "stream",
          "name": "stdout",
          "text": [
            "dict_keys(['href', 'items', 'limit', 'next', 'offset', 'previous', 'total'])\n",
            "spotify:album:06mXfvDsRZNfnsGZvX2zpb\n"
          ]
        }
      ]
    },
    {
      "cell_type": "code",
      "source": [
        "results = sp.album(uri)\n",
        "print(results.keys())\n",
        "print(results['name'])"
      ],
      "metadata": {
        "id": "NwR2A8tiozKU",
        "outputId": "88930595-bdde-4a7b-c39b-04bf47608b56",
        "colab": {
          "base_uri": "https://localhost:8080/"
        }
      },
      "execution_count": 15,
      "outputs": [
        {
          "output_type": "stream",
          "name": "stdout",
          "text": [
            "dict_keys(['album_type', 'artists', 'available_markets', 'copyrights', 'external_ids', 'external_urls', 'genres', 'href', 'id', 'images', 'label', 'name', 'popularity', 'release_date', 'release_date_precision', 'total_tracks', 'tracks', 'type', 'uri'])\n",
            "Music Of The Spheres\n"
          ]
        }
      ]
    }
  ]
}