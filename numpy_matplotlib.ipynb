{
  "nbformat": 4,
  "nbformat_minor": 0,
  "metadata": {
    "kernelspec": {
      "display_name": "Python 3",
      "language": "python",
      "name": "python3"
    },
    "language_info": {
      "codemirror_mode": {
        "name": "ipython",
        "version": 3
      },
      "file_extension": ".py",
      "mimetype": "text/x-python",
      "name": "python",
      "nbconvert_exporter": "python",
      "pygments_lexer": "ipython3",
      "version": "3.7.1"
    },
    "colab": {
      "name": "numpy_matplotlib.ipynb",
      "provenance": [],
      "include_colab_link": true
    }
  },
  "cells": [
    {
      "cell_type": "markdown",
      "metadata": {
        "id": "view-in-github",
        "colab_type": "text"
      },
      "source": [
        "<a href=\"https://colab.research.google.com/github/HyobinJoo/class2024Spring/blob/main/numpy_matplotlib.ipynb\" target=\"_parent\"><img src=\"https://colab.research.google.com/assets/colab-badge.svg\" alt=\"Open In Colab\"/></a>"
      ]
    },
    {
      "cell_type": "markdown",
      "metadata": {
        "id": "JcCdLoe_4bY7"
      },
      "source": [
        "### create nd arrays (≈matrices)"
      ]
    },
    {
      "cell_type": "code",
      "metadata": {
        "id": "5ap7xyofShBB"
      },
      "source": [
        "import numpy as np"
      ],
      "execution_count": 3,
      "outputs": []
    },
    {
      "cell_type": "code",
      "metadata": {
        "id": "2rqpSPZCShBC",
        "colab": {
          "base_uri": "https://localhost:8080/"
        },
        "outputId": "02457444-eae5-4e1a-ccac-128fd4293578"
      },
      "source": [
        "x = np.array([1,2,3]) # 1,2,3은 리스트로 묶여있기 때문에 이 자체로 숫자는 아님.-> np에 있는 array로 만들어주는 함수를 써라\n",
        "print(x)\n",
        "print(type(x))\n",
        "print(x.shape)"
      ],
      "execution_count": 4,
      "outputs": [
        {
          "output_type": "stream",
          "name": "stdout",
          "text": [
            "[1 2 3]\n",
            "<class 'numpy.ndarray'>\n",
            "(3,)\n"
          ]
        }
      ]
    },
    {
      "cell_type": "code",
      "metadata": {
        "id": "EjC88C75ShBC",
        "colab": {
          "base_uri": "https://localhost:8080/"
        },
        "outputId": "7143e4dd-2864-4b57-855e-56eb92a6bd75"
      },
      "source": [
        "x = np.arange(0,10,2) # 0부터 10-1까지 2씩 더해가라\n",
        "print(x)\n",
        "print(type(x))\n",
        "print(x.shape) # (5, ) = 1차원이고 숫자가 5개다"
      ],
      "execution_count": null,
      "outputs": [
        {
          "output_type": "stream",
          "name": "stdout",
          "text": [
            "[0 2 4 6 8]\n",
            "<class 'numpy.ndarray'>\n",
            "(5,)\n"
          ]
        }
      ]
    },
    {
      "cell_type": "code",
      "metadata": {
        "id": "-MwkCEjTShBC",
        "colab": {
          "base_uri": "https://localhost:8080/"
        },
        "outputId": "11427674-886c-4f82-ca48-a1465f53223e"
      },
      "source": [
        "x = np.linspace(0,10,6) # 0부터 10까지 숫자 6개를 등간격으로 만들어라\n",
        "print(x)\n",
        "print(type(x))\n",
        "print(x.shape)"
      ],
      "execution_count": null,
      "outputs": [
        {
          "output_type": "stream",
          "name": "stdout",
          "text": [
            "[ 0.  2.  4.  6.  8. 10.]\n",
            "<class 'numpy.ndarray'>\n",
            "(6,)\n"
          ]
        }
      ]
    },
    {
      "cell_type": "code",
      "source": [
        "[1,2,3] # 한 줄 짜리를 어떻게 직사각형으로 만드느냐\n",
        "[[1,2,3],[4,5,6]] # 여전히 리스트. 문자와 다름없음. 숫자 처리는 안됨."
      ],
      "metadata": {
        "id": "RocAg7U_0Njp"
      },
      "execution_count": null,
      "outputs": []
    },
    {
      "cell_type": "code",
      "metadata": {
        "id": "tjk79SQ27fNv",
        "colab": {
          "base_uri": "https://localhost:8080/"
        },
        "outputId": "3ff3368b-6bb1-4664-933e-8504613780b1"
      },
      "source": [
        "x = np.array([[1,2,3], [4,5,6]]) # 이거를 np.array 하면 숫자 처리가 가능해짐\n",
        "print(x)\n",
        "print(type(x))\n",
        "print(x.shape) # 2(row)*3(column)의 dimension을 가진 matrix가 만들어진다"
      ],
      "execution_count": null,
      "outputs": [
        {
          "output_type": "stream",
          "name": "stdout",
          "text": [
            "[[1 2 3]\n",
            " [4 5 6]]\n",
            "<class 'numpy.ndarray'>\n",
            "(2, 3)\n"
          ]
        }
      ]
    },
    {
      "cell_type": "code",
      "metadata": {
        "id": "C1ogg6iZ7yir",
        "colab": {
          "base_uri": "https://localhost:8080/"
        },
        "outputId": "baf27f4e-10a7-40bb-82f4-bf470d8de90c"
      },
      "source": [
        "x = np.array([[[1,2,3], [4,5,6]], [[7,8,9], [10,11,12]]]) # 3차원짜리. 근데 이렇게는 잘 안씀\n",
        "print(x)\n",
        "print(type(x))\n",
        "print(x.shape) # 2*2*3"
      ],
      "execution_count": null,
      "outputs": [
        {
          "output_type": "stream",
          "name": "stdout",
          "text": [
            "[[[ 1  2  3]\n",
            "  [ 4  5  6]]\n",
            "\n",
            " [[ 7  8  9]\n",
            "  [10 11 12]]]\n",
            "<class 'numpy.ndarray'>\n",
            "(2, 2, 3)\n"
          ]
        }
      ]
    },
    {
      "cell_type": "code",
      "metadata": {
        "id": "efgeNHtD8ZlT",
        "colab": {
          "base_uri": "https://localhost:8080/"
        },
        "outputId": "047fb9dd-8c90-4dbf-9f12-35123bed1052"
      },
      "source": [
        "x = np.ones([2, 2, 3]) # 2(가장 바깥 대괄호 기준 두 개)*2(두 번째 대괄호 기준 두 개)*3(세 번째 대괄호 내 각 element)의 1로만 가득 찬 array를 만들어줌\n",
        "print(x)\n",
        "print(type(x))\n",
        "print(x.shape)"
      ],
      "execution_count": null,
      "outputs": [
        {
          "output_type": "stream",
          "name": "stdout",
          "text": [
            "[[[1. 1. 1.]\n",
            "  [1. 1. 1.]]\n",
            "\n",
            " [[1. 1. 1.]\n",
            "  [1. 1. 1.]]]\n",
            "<class 'numpy.ndarray'>\n",
            "(2, 2, 3)\n"
          ]
        }
      ]
    },
    {
      "cell_type": "code",
      "metadata": {
        "id": "b_F-ccY08zzl",
        "colab": {
          "base_uri": "https://localhost:8080/"
        },
        "outputId": "d56dd759-bbd1-48d5-d208-4a2084fe1cec"
      },
      "source": [
        "x = np.zeros([2, 2, 3])\n",
        "print(x)\n",
        "print(type(x))\n",
        "print(x.shape)\n",
        "x.reshape(3,2,2) # x.reshape(3,4)도 가능. 차원이 줄어드는 건 문제 없음. 따라 x.reshape(12)도 당연히 가능하다."
      ],
      "execution_count": null,
      "outputs": [
        {
          "output_type": "stream",
          "name": "stdout",
          "text": [
            "[[[0. 0. 0.]\n",
            "  [0. 0. 0.]]\n",
            "\n",
            " [[0. 0. 0.]\n",
            "  [0. 0. 0.]]]\n",
            "<class 'numpy.ndarray'>\n",
            "(2, 2, 3)\n"
          ]
        },
        {
          "output_type": "execute_result",
          "data": {
            "text/plain": [
              "array([[[0., 0.],\n",
              "        [0., 0.]],\n",
              "\n",
              "       [[0., 0.],\n",
              "        [0., 0.]],\n",
              "\n",
              "       [[0., 0.],\n",
              "        [0., 0.]]])"
            ]
          },
          "metadata": {},
          "execution_count": 27
        }
      ]
    },
    {
      "cell_type": "markdown",
      "metadata": {
        "id": "0hQuDJ5g9gpE"
      },
      "source": [
        "### create random numbers"
      ]
    },
    {
      "cell_type": "code",
      "source": [
        "np.random.normal(0, 1, [2,3,4]) # np라는 library의 random이라는 section에 normal이라는 함수가 들어있는 것\n",
        "                                # 0을 mean 값(중심)으로 하고, 1의 standard deviation을 가진 2*3*4 nd.array를 만들어라"
      ],
      "metadata": {
        "id": "pCVnElBgan70",
        "outputId": "b06de733-6380-4b28-870b-61ddb453ad8a",
        "colab": {
          "base_uri": "https://localhost:8080/"
        }
      },
      "execution_count": null,
      "outputs": [
        {
          "output_type": "execute_result",
          "data": {
            "text/plain": [
              "array([[[ 0.28610219, -0.7264868 , -0.50719279,  1.04473795],\n",
              "        [-2.6269445 ,  0.80373735, -3.94639222, -0.11259909],\n",
              "        [-0.271832  , -1.03545502, -0.11481238, -0.80041025]],\n",
              "\n",
              "       [[-0.94959226,  1.11390672, -0.47629241, -1.43499953],\n",
              "        [ 1.01427831,  0.93052177, -0.51619177,  1.99354224],\n",
              "        [-0.68265827,  0.97492243, -0.33173391,  0.0293543 ]]])"
            ]
          },
          "metadata": {},
          "execution_count": 5
        }
      ]
    },
    {
      "cell_type": "code",
      "metadata": {
        "id": "QRatmkx79otL"
      },
      "source": [
        "import matplotlib.pyplot as plt"
      ],
      "execution_count": 5,
      "outputs": []
    },
    {
      "cell_type": "code",
      "metadata": {
        "id": "z1oOAB6dShBD",
        "colab": {
          "base_uri": "https://localhost:8080/",
          "height": 991
        },
        "outputId": "645ee8e3-7a30-417e-aef0-c829cd063cb2"
      },
      "source": [
        "x = np.random.normal(0, 1, 100) # 1차원의 array\n",
        "print(x)\n",
        "plt.hist(x, bins=10) # bins는 통"
      ],
      "execution_count": 6,
      "outputs": [
        {
          "output_type": "stream",
          "name": "stdout",
          "text": [
            "[ 4.16635220e-01  1.33161485e+00 -1.27510988e+00  2.55173416e-01\n",
            " -3.28894067e-05 -2.07002470e+00 -7.37003842e-01 -1.19347907e-01\n",
            " -8.52769261e-01 -1.03977078e+00 -3.44649031e-01  5.71569295e-01\n",
            "  5.14067197e-01 -7.20728785e-01 -4.39826315e-01  1.16594432e+00\n",
            " -6.79426110e-01 -7.17122060e-01  7.27298858e-01  5.81770679e-01\n",
            " -1.95501441e-01  2.14518389e-01 -5.34721325e-01 -7.05997244e-01\n",
            " -1.14992331e+00  1.77244648e+00  4.91110828e-02 -5.46472290e-01\n",
            " -4.81572120e-01  1.20994160e+00 -8.10117248e-01  1.86596312e-02\n",
            "  5.46344183e-01 -1.22490694e-01 -2.70810741e-01  5.28469972e-01\n",
            " -5.48767323e-01  1.79560522e+00 -1.18305984e+00 -3.36544497e-01\n",
            "  7.37564394e-01 -5.92503064e-01 -4.72617635e-01 -1.69761900e+00\n",
            " -5.46687884e-01 -1.30102433e-01  1.99829786e-02 -2.40927814e-01\n",
            " -1.85770658e+00  3.62768918e-01  8.73651457e-01  3.80627540e-01\n",
            " -2.83891322e-01 -2.45362912e-01 -6.99849782e-01  5.76031983e-01\n",
            "  1.69039384e-01 -1.75617236e+00 -1.01797783e-01  1.90391376e-02\n",
            "  6.54766619e-01  1.45066063e+00  1.12591346e+00  1.93228743e-01\n",
            "  7.31656924e-01 -2.50914836e-01 -1.19901635e+00  1.71438945e+00\n",
            "  1.70266688e-01  5.04832076e-01 -9.70583761e-02  4.93128886e-01\n",
            " -2.46150760e+00 -6.05701410e-01  2.18334563e-01  2.38295339e+00\n",
            " -7.36953753e-01  9.17275681e-01  1.44848491e-01  5.47925035e-01\n",
            "  8.31130878e-02 -4.40280625e-01  1.08792035e+00  3.23963688e-01\n",
            " -3.42048588e-01  4.48149525e-01 -9.46200645e-01  9.60189910e-01\n",
            " -5.54558533e-01 -7.70340584e-01  7.77454898e-01  9.13345815e-02\n",
            "  8.62711778e-01  1.62268435e-02 -1.38849574e+00 -6.16988438e-01\n",
            "  1.08440975e+00 -7.98412892e-01 -2.45727281e-01 -6.61724982e-01]\n"
          ]
        },
        {
          "output_type": "execute_result",
          "data": {
            "text/plain": [
              "(array([ 2.,  3.,  6., 21., 19., 19., 18.,  7.,  4.,  1.]),\n",
              " array([-2.4615076 , -1.9770615 , -1.4926154 , -1.0081693 , -0.5237232 ,\n",
              "        -0.0392771 ,  0.445169  ,  0.9296151 ,  1.4140612 ,  1.89850729,\n",
              "         2.38295339]),\n",
              " <BarContainer object of 10 artists>)"
            ]
          },
          "metadata": {},
          "execution_count": 6
        },
        {
          "output_type": "display_data",
          "data": {
            "text/plain": [
              "<Figure size 640x480 with 1 Axes>"
            ],
            "image/png": "[encoded data removed]"
          },
          "metadata": {}
        }
      ]
    },
    {
      "cell_type": "markdown",
      "metadata": {
        "id": "G0exvwBbShBE"
      },
      "source": [
        "### generate a sine curve"
      ]
    },
    {
      "cell_type": "code",
      "metadata": {
        "id": "HgQmRXzMShBE",
        "colab": {
          "base_uri": "https://localhost:8080/",
          "height": 247
        },
        "outputId": "cea35e7d-0a66-4830-c9eb-733aaa2d9202"
      },
      "source": [
        "plt.figure() # x축=radian -> 원에서 내 위치를 길이로 이야기하는 것\n",
        "\n",
        "theta1 = np.linspace(0, 2*np.pi, 100) # 2*np.pi(np 속에 저장된 pi 값을 가져옴)=2*pi 값\n",
        "s1 = np.sin(theta1) # s1은 0부터 2파이까지 만든 100개의 값으로 뽑아낸 사인의 값\n",
        "\n",
        "\n",
        "plt.subplot(2, 1, 1) # (rows, columns, panel number)\n",
        "plt.plot(theta1, s1, '.')"
      ],
      "execution_count": 8,
      "outputs": [
        {
          "output_type": "execute_result",
          "data": {
            "text/plain": [
              "[<matplotlib.lines.Line2D at 0x7c669073eb90>]"
            ]
          },
          "metadata": {},
          "execution_count": 8
        },
        {
          "output_type": "display_data",
          "data": {
            "text/plain": [
              "<Figure size 640x480 with 1 Axes>"
            ],
            "image/png": "[encoded data removed]"
          },
          "metadata": {}
        }
      ]
    },
    {
      "cell_type": "code",
      "source": [
        "theta2 = np.linspace(0, 2*np.pi, 100) + np.pi/2   # 90도를 더함(0~360->90~450)\n",
        "s2 = np.sin(theta2)\n",
        "\n",
        "plt.subplot(2, 1, 2) # (rows, columns, panel number)\n",
        "plt.plot(theta2, s2, '.')"
      ],
      "metadata": {
        "id": "sVd8Mv0V5OV4",
        "outputId": "297e8e69-7947-46f0-b808-8613db654f88",
        "colab": {
          "base_uri": "https://localhost:8080/",
          "height": 247
        }
      },
      "execution_count": 10,
      "outputs": [
        {
          "output_type": "execute_result",
          "data": {
            "text/plain": [
              "[<matplotlib.lines.Line2D at 0x7c6690644f70>]"
            ]
          },
          "metadata": {},
          "execution_count": 10
        },
        {
          "output_type": "display_data",
          "data": {
            "text/plain": [
              "<Figure size 640x480 with 1 Axes>"
            ],
            "image/png": "[encoded data removed]"
          },
          "metadata": {}
        }
      ]
    },
    {
      "cell_type": "code",
      "metadata": {
        "id": "TuH489v9BvQ7",
        "colab": {
          "base_uri": "https://localhost:8080/"
        },
        "outputId": "80f021a2-50ec-4eb5-aed7-4faf9a306496"
      },
      "source": [
        "np.corrcoef(s1,s2) # y=ax+b를 귀하는 것이 linear regression; 선형 회귀분석\n",
        "                   # 직선에 값이 모여있으면 상관관계가 높다고 함. 이를 나타내는 상관계수(correlation coefficient) R은 -1과 1 사이의 값\n",
        "                   # 0부터 360도까지 사인값을 100개 만듦. 자기 자신과의 correlation 값은(x축, y축 모두 사인값일 때)? => 1\n",
        "\n",
        "                   # orthogonal = 90도의, statiscally independent (상관관계가 0)\n",
        "                   # e 앞에 있는 숫자는 한 자리수 / 2.41xx * 10의 -17승"
      ],
      "execution_count": null,
      "outputs": [
        {
          "output_type": "execute_result",
          "data": {
            "text/plain": [
              "array([[1.00000000e+00, 2.41915449e-17],\n",
              "       [2.41915449e-17, 1.00000000e+00]])"
            ]
          },
          "metadata": {},
          "execution_count": 11
        }
      ]
    }
  ]
}